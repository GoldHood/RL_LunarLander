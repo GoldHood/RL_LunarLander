{
 "cells": [
  {
   "cell_type": "code",
   "execution_count": null,
   "id": "482f3943-d104-4a4b-8a8f-ef6872acd82f",
   "metadata": {},
   "outputs": [],
   "source": [
    "pip install -q \"gymnasium[box2d]==0.29.1\" torch==2.3.1 numpy==1.26.4 matplotlib==3.8.4 tqdm==4.66.4\n"
   ]
  },
  {
   "cell_type": "code",
   "execution_count": null,
   "id": "ff4aeb90-8ce0-414f-8adb-cc5f21b10828",
   "metadata": {},
   "outputs": [],
   "source": [
    "pip install box2d-py==2.3.8\n"
   ]
  }
 ],
 "metadata": {
  "kernelspec": {
   "display_name": "Python 3 (ipykernel)",
   "language": "python",
   "name": "python3"
  },
  "language_info": {
   "name": ""
  }
 },
 "nbformat": 4,
 "nbformat_minor": 5
}
